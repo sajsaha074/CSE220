{
  "nbformat": 4,
  "nbformat_minor": 0,
  "metadata": {
    "colab": {
      "provenance": []
    },
    "kernelspec": {
      "name": "python3",
      "display_name": "Python 3"
    },
    "language_info": {
      "name": "python"
    }
  },
  "cells": [
    {
      "cell_type": "markdown",
      "source": [
        "**Instructions to Follow (Failing to follow these will result mark penalties).**\n",
        "\n",
        "\n",
        "1.   You can not use any built-in function except len()\n",
        "2.   You can not use any other python collections except array (e.g: tuptle, dictionaries etc.).\n",
        "3. We will initialize a new array using numpy library. We have to mention the fixed size during initialization. There might be two approach.\n",
        "\n",
        "  i. arr = np.zeros((10), dtype = int) #Initializing an array length 10 with values 0\n",
        "\n",
        "  ii. arr = np.array([10, 20, 30, 40]) #Initializing an array length 4 with the values.\n",
        "4. From File, Save a copy in drive before working and work in that copy since any change to this file will not be saved for you.\n",
        "\n",
        "\n",
        "\n",
        "\n"
      ],
      "metadata": {
        "id": "l7Neg32qlqKi"
      }
    },
    {
      "cell_type": "code",
      "execution_count": 30,
      "metadata": {
        "id": "1fdSwhC1lman",
        "colab": {
          "base_uri": "https://localhost:8080/"
        },
        "outputId": "3773b82f-d23a-4509-ce5b-1b7897b2ef27"
      },
      "outputs": [
        {
          "output_type": "stream",
          "name": "stdout",
          "text": [
            "Looking in indexes: https://pypi.org/simple, https://us-python.pkg.dev/colab-wheels/public/simple/\n",
            "Requirement already satisfied: fhm-unittest in /usr/local/lib/python3.10/dist-packages (1.0.1)\n",
            "Looking in indexes: https://pypi.org/simple, https://us-python.pkg.dev/colab-wheels/public/simple/\n",
            "Requirement already satisfied: fuzzywuzzy in /usr/local/lib/python3.10/dist-packages (0.18.0)\n"
          ]
        }
      ],
      "source": [
        "# You must run this cell to install dependency\n",
        "! pip3 install fhm-unittest\n",
        "! pip3 install fuzzywuzzy\n",
        "import fhm_unittest as unittest\n",
        "import numpy as np"
      ]
    },
    {
      "cell_type": "code",
      "source": [
        "#You must run this cell to print matrix and for the driver code to work\n",
        "def print_matrix(m):\n",
        "  row,col = m.shape\n",
        "  for i in range(row):\n",
        "    c = 1\n",
        "    print('|', end='')\n",
        "    for j in range(col):\n",
        "      c += 1\n",
        "      if(len(str(m[i][j])) == 1):\n",
        "        print(' ',m[i][j], end = '  |')\n",
        "        c += 6\n",
        "      else:\n",
        "        print(' ',m[i][j], end = ' |')\n",
        "        c += 6\n",
        "    print()\n",
        "    print('-'*(c-col))"
      ],
      "metadata": {
        "id": "s1d8VpMcmAYI"
      },
      "execution_count": 31,
      "outputs": []
    },
    {
      "cell_type": "markdown",
      "source": [
        "Task 1: Zigzag Walk"
      ],
      "metadata": {
        "id": "Q2LBZRlumbFr"
      }
    },
    {
      "cell_type": "code",
      "source": [
        "def walk_zigzag(floor):\n",
        "  num_rows = len(floor)\n",
        "  num_cols = len(floor[0])\n",
        "  for row in range(num_rows):\n",
        "    if row % 2 == 0:\n",
        "        for col in range(num_cols):\n",
        "                if floor[row][col][-1] == 'W':\n",
        "                    print(floor[row][col], end=' ')\n",
        "    else:\n",
        "        for col in range(num_cols - 1, -1, -1):\n",
        "            if floor[row][col][-1] == 'W':\n",
        "                    print(floor[row][col], end=' ')\n",
        "        print()\n",
        "\n",
        "floor = np.array([[ '3W' , '8B' , '4W' , '6B' , '1W' , '5B'],['3B' , '2W' , '1B' , '6W' , '3B' , '8W'],\n",
        "                  ['9W' , '0B' , '7W' , '5B' , '3W' , '8B'],['2B' , '1W' , '3B' , '6W' , '0B' , '4W'],\n",
        "                   ['1W' , '4B' , '2W' , '8B' , '6W' , '6B']])\n",
        "print_matrix(floor)\n",
        "print('Walking Sequence:')\n",
        "walk_zigzag(floor)"
      ],
      "metadata": {
        "id": "_F8YAVawmMwC",
        "colab": {
          "base_uri": "https://localhost:8080/"
        },
        "outputId": "ccfcfbe9-b4af-44f9-f974-125a8b554d1e"
      },
      "execution_count": 32,
      "outputs": [
        {
          "output_type": "stream",
          "name": "stdout",
          "text": [
            "|  3W |  8B |  4W |  6B |  1W |  5B |\n",
            "-------------------------------------\n",
            "|  3B |  2W |  1B |  6W |  3B |  8W |\n",
            "-------------------------------------\n",
            "|  9W |  0B |  7W |  5B |  3W |  8B |\n",
            "-------------------------------------\n",
            "|  2B |  1W |  3B |  6W |  0B |  4W |\n",
            "-------------------------------------\n",
            "|  1W |  4B |  2W |  8B |  6W |  6B |\n",
            "-------------------------------------\n",
            "Walking Sequence:\n",
            "3W 4W 1W 8W 6W 2W \n",
            "9W 7W 3W 4W 6W 1W \n",
            "1W 2W 6W "
          ]
        }
      ]
    },
    {
      "cell_type": "markdown",
      "source": [
        "Task 2: Landscape Screen"
      ],
      "metadata": {
        "id": "XP-y7UlNm3BY"
      }
    },
    {
      "cell_type": "code",
      "source": [
        "def landscape(m):\n",
        "    rows, cols = m.shape\n",
        "    rotated_matrix = np.zeros((cols, rows), dtype=int)\n",
        "    for i in range(rows):\n",
        "        for j in range(cols):\n",
        "            rotated_matrix[j][i] = m[i][j]\n",
        "    return rotated_matrix\n",
        "m = np.random.randint(15,size=(4,3))\n",
        "print_matrix(m)\n",
        "print()\n",
        "print_matrix(landscape(m))"
      ],
      "metadata": {
        "id": "3LQXKBz3mUkj",
        "colab": {
          "base_uri": "https://localhost:8080/"
        },
        "outputId": "0cd36ed6-9811-440d-818c-269e97ce6e7a"
      },
      "execution_count": 33,
      "outputs": [
        {
          "output_type": "stream",
          "name": "stdout",
          "text": [
            "|  7  |  4  |  13 |\n",
            "-------------------\n",
            "|  11 |  6  |  6  |\n",
            "-------------------\n",
            "|  12 |  0  |  14 |\n",
            "-------------------\n",
            "|  2  |  5  |  12 |\n",
            "-------------------\n",
            "\n",
            "|  7  |  11 |  12 |  2  |\n",
            "-------------------------\n",
            "|  4  |  6  |  0  |  5  |\n",
            "-------------------------\n",
            "|  13 |  6  |  14 |  12 |\n",
            "-------------------------\n"
          ]
        }
      ]
    },
    {
      "cell_type": "markdown",
      "source": [
        "Task 3: Seating Arrangement"
      ],
      "metadata": {
        "id": "piw0POuVna4_"
      }
    },
    {
      "cell_type": "code",
      "source": [
        "from os import name\n",
        "def arrangement(m, diff):\n",
        "    print(len(m))\n",
        "    for i in range(len(m)):\n",
        "\n",
        "        for j in range(len(m)):\n",
        "          if i==j:\n",
        "            pass\n",
        "          else:\n",
        "            n=abs( m[i][j] - m[j][i])\n",
        "\n",
        "            if n!=diff :\n",
        "                return False\n",
        "    return True\n",
        "m = np.array([[7,13,9,14],[12,8,15,11],[10,17,3,2],[15,10,1,4]])\n",
        "print_matrix(m)\n",
        "print()\n",
        "returned_value = arrangement(m,1)\n",
        "print(returned_value)#This should print False\n",
        "unittest.output_test(returned_value, False)"
      ],
      "metadata": {
        "id": "H4EDQCTfnes7",
        "colab": {
          "base_uri": "https://localhost:8080/"
        },
        "outputId": "3bfd2bf9-b13f-4abf-813f-18a733d722ec"
      },
      "execution_count": 34,
      "outputs": [
        {
          "output_type": "stream",
          "name": "stdout",
          "text": [
            "|  7  |  13 |  9  |  14 |\n",
            "-------------------------\n",
            "|  12 |  8  |  15 |  11 |\n",
            "-------------------------\n",
            "|  10 |  17 |  3  |  2  |\n",
            "-------------------------\n",
            "|  15 |  10 |  1  |  4  |\n",
            "-------------------------\n",
            "\n",
            "4\n",
            "False\n",
            "Accepted\n"
          ]
        }
      ]
    },
    {
      "cell_type": "markdown",
      "source": [
        "Task 4: Chess Piece"
      ],
      "metadata": {
        "id": "dULlGfSWoa_-"
      }
    },
    {
      "cell_type": "code",
      "source": [
        "def show_knight_move(knight):\n",
        "  chess_board = np.zeros((8, 8), dtype=int)\n",
        "  x, y = knight\n",
        "\n",
        "  chess_board[x][y] = 33\n",
        "\n",
        "  moves = [\n",
        "        (2, 1), (2, -1), (-2, 1), (-2, -1),\n",
        "        (1, 2), (1, -2), (-1, 2), (-1, -2)\n",
        "    ]\n",
        "\n",
        "  for a, b in moves:\n",
        "        new_x, new_y = x + a, y + b\n",
        "\n",
        "        if 0 <= new_x < 8 and 0 <= new_y < 8:\n",
        "            chess_board[new_x][new_y] = 3\n",
        "\n",
        "  return chess_board\n",
        "\n",
        "\n",
        "knight = (3,4)\n",
        "chess_board = show_knight_move(knight)\n",
        "print_matrix(chess_board)"
      ],
      "metadata": {
        "id": "CXu8BAjWn6IN",
        "colab": {
          "base_uri": "https://localhost:8080/"
        },
        "outputId": "95a7ed3f-ea5f-44de-8829-d0e198c24b3d"
      },
      "execution_count": 35,
      "outputs": [
        {
          "output_type": "stream",
          "name": "stdout",
          "text": [
            "|  0  |  0  |  0  |  0  |  0  |  0  |  0  |  0  |\n",
            "-------------------------------------------------\n",
            "|  0  |  0  |  0  |  3  |  0  |  3  |  0  |  0  |\n",
            "-------------------------------------------------\n",
            "|  0  |  0  |  3  |  0  |  0  |  0  |  3  |  0  |\n",
            "-------------------------------------------------\n",
            "|  0  |  0  |  0  |  0  |  33 |  0  |  0  |  0  |\n",
            "-------------------------------------------------\n",
            "|  0  |  0  |  3  |  0  |  0  |  0  |  3  |  0  |\n",
            "-------------------------------------------------\n",
            "|  0  |  0  |  0  |  3  |  0  |  3  |  0  |  0  |\n",
            "-------------------------------------------------\n",
            "|  0  |  0  |  0  |  0  |  0  |  0  |  0  |  0  |\n",
            "-------------------------------------------------\n",
            "|  0  |  0  |  0  |  0  |  0  |  0  |  0  |  0  |\n",
            "-------------------------------------------------\n"
          ]
        }
      ]
    },
    {
      "cell_type": "markdown",
      "source": [
        "Bonus Task"
      ],
      "metadata": {
        "id": "Dox4AStYo8Xk"
      }
    },
    {
      "cell_type": "code",
      "source": [
        "def topple(knight,rook):\n",
        "  chess_board = np.zeros((8, 8), dtype=int)\n",
        "  knight_x, knight_y = knight\n",
        "  rook_x, rook_y = rook\n",
        "  chess_board[knight_x][knight_y] = 33\n",
        "  moves = [\n",
        "        (2, 1), (2, -1), (-2, 1), (-2, -1),\n",
        "        (1, 2), (1, -2), (-1, 2), (-1, -2)\n",
        "    ]\n",
        "  for a,b in moves:\n",
        "        new_x, new_y = knight_x + a, knight_y +b\n",
        "        if 0 <= new_x < 8 and 0 <= new_y < 8:\n",
        "            chess_board[new_x][new_y] = 3\n",
        "  ans = \"Cannot Kill\"\n",
        "  if knight_x == rook_x or knight_y == rook_y:\n",
        "        ans = \"Knight can kill\" if knight_x != rook_x or knight_y != rook_y else \"Rook can kill\"\n",
        "  return chess_board, ans\n",
        "\n",
        "def print_matrix(matrix):\n",
        "    for row in matrix:\n",
        "        print(\"|\", end=\" \")\n",
        "        for cell in row:\n",
        "            print(cell, end=\" | \")\n",
        "        print(\"\\n------------------------------------------\")\n",
        "\n",
        "knight = (5,6)\n",
        "rook = (5,1)\n",
        "chess_board, ans = topple(knight,rook)\n",
        "print_matrix(chess_board)\n",
        "print(ans) #This should print Rook can kill"
      ],
      "metadata": {
        "id": "AvzKs7wnoraw",
        "colab": {
          "base_uri": "https://localhost:8080/"
        },
        "outputId": "3082c567-35a2-4135-ab88-b6e7eb0a547a"
      },
      "execution_count": 36,
      "outputs": [
        {
          "output_type": "stream",
          "name": "stdout",
          "text": [
            "| 0 | 0 | 0 | 0 | 0 | 0 | 0 | 0 | \n",
            "------------------------------------------\n",
            "| 0 | 0 | 0 | 0 | 0 | 0 | 0 | 0 | \n",
            "------------------------------------------\n",
            "| 0 | 0 | 0 | 0 | 0 | 0 | 0 | 0 | \n",
            "------------------------------------------\n",
            "| 0 | 0 | 0 | 0 | 0 | 3 | 0 | 3 | \n",
            "------------------------------------------\n",
            "| 0 | 0 | 0 | 0 | 3 | 0 | 0 | 0 | \n",
            "------------------------------------------\n",
            "| 0 | 0 | 0 | 0 | 0 | 0 | 33 | 0 | \n",
            "------------------------------------------\n",
            "| 0 | 0 | 0 | 0 | 3 | 0 | 0 | 0 | \n",
            "------------------------------------------\n",
            "| 0 | 0 | 0 | 0 | 0 | 3 | 0 | 3 | \n",
            "------------------------------------------\n",
            "Knight can kill\n"
          ]
        }
      ]
    }
  ]
}