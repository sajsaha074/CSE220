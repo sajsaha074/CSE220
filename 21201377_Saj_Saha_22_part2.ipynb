{
  "nbformat": 4,
  "nbformat_minor": 0,
  "metadata": {
    "colab": {
      "provenance": []
    },
    "kernelspec": {
      "name": "python3",
      "display_name": "Python 3"
    },
    "language_info": {
      "name": "python"
    }
  },
  "cells": [
    {
      "cell_type": "code",
      "execution_count": null,
      "metadata": {
        "colab": {
          "base_uri": "https://localhost:8080/"
        },
        "id": "0lOlgIn7Hu7H",
        "outputId": "97133f6a-fe91-4166-83ae-2ac5ac02f242"
      },
      "outputs": [
        {
          "output_type": "stream",
          "name": "stdout",
          "text": [
            "The mean of the numbers is: 10.181818181818182\n",
            "The standard deviation is: 7.96\n",
            "New array: [25, -5]\n"
          ]
        }
      ],
      "source": [
        "def calculate_mean(arr):\n",
        "    total = sum(arr)\n",
        "    mean = total / len(arr)\n",
        "    return mean\n",
        "def calculate_standard_deviation(arr):\n",
        "    mean = calculate_mean(arr)\n",
        "    squared_sum = sum((x - mean) ** 2 for x in arr)\n",
        "    variance = squared_sum / (len(arr) - 1)\n",
        "    standard_deviation = manual_sqrt(variance)\n",
        "    return standard_deviation\n",
        "def filter_numbers(arr):\n",
        "    mean = calculate_mean(arr)\n",
        "    standard_deviation = calculate_standard_deviation(arr)\n",
        "    hold = 1.5 * standard_deviation\n",
        "    new_arr = [x for x in arr if abs(x - mean) >= hold]\n",
        "    return new_arr\n",
        "\n",
        "def manual_sqrt(num):\n",
        "    if num == 0 or num == 1:\n",
        "        return num\n",
        "\n",
        "    new = num / 2\n",
        "    prev = 0\n",
        "\n",
        "    while abs(new - prev) >= 1e-5:\n",
        "        prev =new\n",
        "        new = (new + num / new) / 2\n",
        "\n",
        "    return new\n",
        "arr = [10, 8, 13, 9, 14, 25, -5, 20, 7, 7, 4]\n",
        "\n",
        "mean = calculate_mean(arr)\n",
        "print(\"The mean of the numbers is:\", mean)\n",
        "\n",
        "standard_deviation = calculate_standard_deviation(arr)\n",
        "print(\"The standard deviation is:\", round(standard_deviation,2))\n",
        "\n",
        "new_arr = filter_numbers(arr)\n",
        "print(\"New array:\", new_arr)\n"
      ]
    }
  ]
}