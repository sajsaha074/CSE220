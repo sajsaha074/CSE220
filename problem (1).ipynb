{
  "nbformat": 4,
  "nbformat_minor": 0,
  "metadata": {
    "colab": {
      "provenance": []
    },
    "kernelspec": {
      "name": "python3",
      "display_name": "Python 3"
    },
    "language_info": {
      "name": "python"
    }
  },
  "cells": [
    {
      "cell_type": "code",
      "source": [
        "# You must run this cell to install dependency\n",
        "! pip3 install fhm-unittest\n",
        "! pip3 install fuzzywuzzy\n",
        "import fhm_unittest as unittest\n",
        "import numpy as np"
      ],
      "metadata": {
        "colab": {
          "base_uri": "https://localhost:8080/"
        },
        "id": "dZD7y3DrHiSu",
        "outputId": "6c86ff5d-e2af-49d6-8b57-cbfc8a6cd9e2"
      },
      "execution_count": 3,
      "outputs": [
        {
          "output_type": "stream",
          "name": "stdout",
          "text": [
            "Looking in indexes: https://pypi.org/simple, https://us-python.pkg.dev/colab-wheels/public/simple/\n",
            "Collecting fhm-unittest\n",
            "  Downloading fhm_unittest-1.0.1-py3-none-any.whl (2.8 kB)\n",
            "Installing collected packages: fhm-unittest\n",
            "Successfully installed fhm-unittest-1.0.1\n",
            "Looking in indexes: https://pypi.org/simple, https://us-python.pkg.dev/colab-wheels/public/simple/\n",
            "Collecting fuzzywuzzy\n",
            "  Downloading fuzzywuzzy-0.18.0-py2.py3-none-any.whl (18 kB)\n",
            "Installing collected packages: fuzzywuzzy\n",
            "Successfully installed fuzzywuzzy-0.18.0\n"
          ]
        },
        {
          "output_type": "stream",
          "name": "stderr",
          "text": [
            "/usr/local/lib/python3.10/dist-packages/fuzzywuzzy/fuzz.py:11: UserWarning: Using slow pure-python SequenceMatcher. Install python-Levenshtein to remove this warning\n",
            "  warnings.warn('Using slow pure-python SequenceMatcher. Install python-Levenshtein to remove this warning')\n"
          ]
        }
      ]
    },
    {
      "cell_type": "code",
      "execution_count": 4,
      "metadata": {
        "colab": {
          "base_uri": "https://localhost:8080/"
        },
        "id": "az8CmOucGzwC",
        "outputId": "73ddf60e-dda4-479c-b4fc-50e72a5187ad"
      },
      "outputs": [
        {
          "output_type": "stream",
          "name": "stdout",
          "text": [
            "///  Test 05: Protecc Salami  ///\n",
            "Task 5: False\n",
            "Wrong Answer [Your output: False  |  Expected Output: True]\n",
            "Task 5: False\n",
            "Accepted\n"
          ]
        }
      ],
      "source": [
        "#Task5\n",
        "def protectSalami(salami):           \n",
        "   maximum=0\n",
        "   for i in salami:\n",
        "     if i>maximum:\n",
        "       maximum=i+1\n",
        "   arr=[0]*maximum\n",
        "   for i in salami:\n",
        "     arr[i]+=1\n",
        "   for j in range(len(arr)-1):\n",
        "     #flag=False\n",
        "     if arr[j]>=2:\n",
        "       flag=False\n",
        "       for k in range(j+1,len(arr)-1):\n",
        "         if arr[j]==arr[k]:\n",
        "           flag=True\n",
        "           return flag  \n",
        "         \n",
        "       return flag\n",
        "print(\"///  Test 05: Protecc Salami  ///\")\n",
        "salami = np.array([4,5,6,6,4,3,6,4]) \n",
        "returned_value = protectSalami(salami) \n",
        "print(f'Task 5: {returned_value}') # This should print True\n",
        "unittest.output_test(returned_value, True)\n",
        "\n",
        "salami = np.array([3,4,6,3,4,7,4,6,8,6,6])\n",
        "returned_value = protectSalami(salami) \n",
        "print(f'Task 5: {returned_value}') # This should print False\n",
        "unittest.output_test(returned_value, False)       "
      ]
    },
    {
      "cell_type": "code",
      "source": [
        "# Test 06: Odd Even Wave\n",
        "def waveYourFlag(arr):\n",
        "    arr_len = len(arr)\n",
        "    wave_arr = [0] * arr_len  \n",
        "    \n",
        "    for i in range(arr_len):\n",
        "        if i % 2 == 0:  \n",
        "            if i < arr_len - 1 and arr[i] % 2 != 0:\n",
        "                wave_arr[i] = arr[i+1]\n",
        "                wave_arr[i+1] = arr[i]\n",
        "            else:\n",
        "                wave_arr[i] = arr[i]\n",
        "        else:  \n",
        "            if i < arr_len - 1 and arr[i] % 2 == 0:\n",
        "                wave_arr[i] = arr[i+1]\n",
        "                wave_arr[i+1] = arr[i]\n",
        "            else:\n",
        "                wave_arr[i] = arr[i]\n",
        "    \n",
        "    return wave_arr\n",
        "print(\"///  Test 06: Odd Even Wave  ///\")\n",
        "arr = np.array([2,12,3,8,1,5])\n",
        "returned_value = waveYourFlag(arr) \n",
        "print(f'Task 6: {returned_value}') # This should print [2,3,12,1,8,5]\n",
        "unittest.output_test(returned_value, np.array([2,3,12,1,8,5]))\n",
        "\n",
        "arr = np.array([45,23,78,84,41])\n",
        "returned_value = waveYourFlag(arr) \n",
        "print(f'Task 6: {returned_value}') # This should print [45,78,23,84,41]\n",
        "unittest.output_test(returned_value, np.array([45,78,23,84,41]))    "
      ],
      "metadata": {
        "colab": {
          "base_uri": "https://localhost:8080/"
        },
        "id": "6o-0bDuRHN6J",
        "outputId": "5be00696-d6bb-401b-97b6-f7ac410c389d"
      },
      "execution_count": 9,
      "outputs": [
        {
          "output_type": "stream",
          "name": "stdout",
          "text": [
            "///  Test 06: Odd Even Wave  ///\n",
            "Task 6: [2, 3, 8, 1, 5, 5]\n",
            "Not Accepted [Your output: [2, 3, 8, 1, 5, 5]  |  Expected Output: [ 2  3 12  1  8  5]]\n",
            "Task 6: [23, 23, 78, 41, 41]\n",
            "Not Accepted [Your output: [23, 23, 78, 41, 41]  |  Expected Output: [45 78 23 84 41]]\n"
          ]
        }
      ]
    }
  ]
}