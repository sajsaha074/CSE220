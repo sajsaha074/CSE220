{
  "nbformat": 4,
  "nbformat_minor": 0,
  "metadata": {
    "colab": {
      "provenance": []
    },
    "kernelspec": {
      "name": "python3",
      "display_name": "Python 3"
    },
    "language_info": {
      "name": "python"
    }
  },
  "cells": [
    {
      "cell_type": "code",
      "source": [
        "def flattenlist(given, output):\n",
        "    if len(given) == 0:\n",
        "        return output\n",
        "    if type(given[0]) == list:\n",
        "        output = flattenlist(given[0], output)\n",
        "    else:\n",
        "        output.append(given[0])\n",
        "\n",
        "    return flattenlist(given[1:], output)\n",
        "\n",
        "given= [1, [2, [3, [4], 5], 6], 7, 8, [9, [[10, 11], 12], 13], 14, [15, [16, [17]]]]\n",
        "output= flattenlist(given, [])\n",
        "print(output)\n"
      ],
      "metadata": {
        "colab": {
          "base_uri": "https://localhost:8080/"
        },
        "id": "i9u-RWwL-cYN",
        "outputId": "8877674b-3282-4159-c49e-3c61983967bb"
      },
      "execution_count": null,
      "outputs": [
        {
          "output_type": "stream",
          "name": "stdout",
          "text": [
            "[1, 2, 3, 4, 5, 6, 7, 8, 9, 10, 11, 12, 13, 14, 15, 16, 17]\n"
          ]
        }
      ]
    },
    {
      "cell_type": "code",
      "source": [
        "#Ungraded\n",
        "class Node:\n",
        "    def __init__(self, next, bottom, val):\n",
        "        self.next = next\n",
        "        self.bottom = bottom\n",
        "        self.val = val\n",
        "\n",
        "def flattenlist(elem, output):\n",
        "    if elem is None:\n",
        "        return output\n",
        "\n",
        "    output.append(elem.val)\n",
        "\n",
        "    if elem.bottom is not None:\n",
        "        flattenlist(elem.bottom, output)\n",
        "\n",
        "    return flattenlist(elem.next, output)\n",
        "#Driver_Code\n",
        "\n",
        "node17 = Node(None, None, 17)\n",
        "node16 = Node(None, node17, 16)\n",
        "node15 = Node(None, node16, 15)\n",
        "\n",
        "node12 = Node(None, None, 12)\n",
        "node11 = Node(None, None, 11)\n",
        "node10 = Node(node11, node12, 10)\n",
        "node9 = Node(node10, None, 9)\n",
        "\n",
        "node5 = Node(None, None, 5)\n",
        "node4 = Node(None, None, 4)\n",
        "node3 = Node(node4, node5, 3)\n",
        "node2 = Node(node3, None, 2)\n",
        "node1 = Node(node2, node9, 1)\n",
        "\n",
        "# Flatten the linked list\n",
        "output = []\n",
        "flattenlist(node1, output)\n",
        "\n",
        "print(output)"
      ],
      "metadata": {
        "colab": {
          "base_uri": "https://localhost:8080/"
        },
        "id": "gBvH7fRHFpRg",
        "outputId": "269c254a-f118-49af-b20a-f00916182a66"
      },
      "execution_count": null,
      "outputs": [
        {
          "output_type": "stream",
          "name": "stdout",
          "text": [
            "[1, 9, 10, 12, 11, 2, 3, 5, 4]\n"
          ]
        }
      ]
    },
    {
      "cell_type": "code",
      "execution_count": null,
      "metadata": {
        "colab": {
          "base_uri": "https://localhost:8080/"
        },
        "id": "18QzBC6AaTSH",
        "outputId": "0b918a81-45f0-4ccd-c9b5-db5f21b408b6"
      },
      "outputs": [
        {
          "output_type": "execute_result",
          "data": {
            "text/plain": [
              "120"
            ]
          },
          "metadata": {},
          "execution_count": 6
        }
      ],
      "source": [
        " #Task1 a:\n",
        "def factorial(a):\n",
        "  if a==0 or a==1:\n",
        "    return 1\n",
        "  else:\n",
        "    return a*factorial(a-1)\n",
        "factorial(5)"
      ]
    },
    {
      "cell_type": "code",
      "source": [
        "#task1 b :\n",
        "def fibonacci(n):\n",
        "  if n==0:\n",
        "    return 0\n",
        "  if n==1:\n",
        "    return 1\n",
        "  else:\n",
        "    return fibonacci(n-1) +fibonacci (n-2)\n",
        "fibonacci (5)"
      ],
      "metadata": {
        "colab": {
          "base_uri": "https://localhost:8080/"
        },
        "id": "_vvqtdowfxmf",
        "outputId": "c9e1f0df-e055-4c4e-e32c-a9745f637532"
      },
      "execution_count": null,
      "outputs": [
        {
          "output_type": "execute_result",
          "data": {
            "text/plain": [
              "5"
            ]
          },
          "metadata": {},
          "execution_count": 7
        }
      ]
    },
    {
      "cell_type": "code",
      "source": [
        "#task 1 c:\n",
        "def printArray(arr,count=0):\n",
        "  if count==len(arr):\n",
        "    return\n",
        "  else:\n",
        "    print(arr[count])\n",
        "    return printArray(arr, count+1)\n",
        "arr=[1,2,3,4,5]\n",
        "printArray(arr,0)"
      ],
      "metadata": {
        "colab": {
          "base_uri": "https://localhost:8080/"
        },
        "id": "Xa2EGeo5h2bR",
        "outputId": "7a3e8103-51ea-4280-c148-637bd5c407c6"
      },
      "execution_count": null,
      "outputs": [
        {
          "output_type": "stream",
          "name": "stdout",
          "text": [
            "1\n",
            "2\n",
            "3\n",
            "4\n",
            "5\n"
          ]
        }
      ]
    },
    {
      "cell_type": "code",
      "source": [
        "#Task 1d:\n",
        "def powerN(base, n):\n",
        "    if n == 0:\n",
        "        return 1\n",
        "    else:\n",
        "        return base * powerN(base, n-1)\n",
        "powerN(3,3)\n"
      ],
      "metadata": {
        "colab": {
          "base_uri": "https://localhost:8080/"
        },
        "id": "NlKjrIpBkach",
        "outputId": "5a72af36-1a12-4c85-85b0-d014c9839e68"
      },
      "execution_count": null,
      "outputs": [
        {
          "output_type": "execute_result",
          "data": {
            "text/plain": [
              "27"
            ]
          },
          "metadata": {},
          "execution_count": 9
        }
      ]
    },
    {
      "cell_type": "code",
      "source": [
        "#Task2 a:\n",
        "def decimal_to_binary(n):\n",
        "    if n == 0:\n",
        "        return \"0\"\n",
        "    elif n == 1:\n",
        "        return \"1\"\n",
        "    else:\n",
        "        return decimal_to_binary(n // 2) + str(n % 2)\n",
        "decimal_to_binary(20)"
      ],
      "metadata": {
        "colab": {
          "base_uri": "https://localhost:8080/",
          "height": 36
        },
        "id": "lh-CMimGbvRj",
        "outputId": "36e6b10e-b7b6-4ad1-a22b-f720e2fa1eba"
      },
      "execution_count": null,
      "outputs": [
        {
          "output_type": "execute_result",
          "data": {
            "text/plain": [
              "'10100'"
            ],
            "application/vnd.google.colaboratory.intrinsic+json": {
              "type": "string"
            }
          },
          "metadata": {},
          "execution_count": 10
        }
      ]
    },
    {
      "cell_type": "code",
      "source": [
        "#Task 2 (b)\n",
        "class Node:\n",
        "    def __init__(self, val):\n",
        "        self.val = val\n",
        "        self.next = None\n",
        "\n",
        "def array_to_linked_list(arr):\n",
        "    if not arr:\n",
        "        return None\n",
        "    head = Node(arr[0])\n",
        "    curr = head\n",
        "    for i in range(1, len(arr)):\n",
        "        curr.next = Node(arr[i])\n",
        "        curr = curr.next\n",
        "    return head\n",
        "def printListReverse(head):\n",
        "    if head is None:\n",
        "       return 0\n",
        "    else:\n",
        "        printListReverse(head.next)\n",
        "        print(head.val)\n",
        "\n",
        "arr = [10,20,30,40]\n",
        "head = array_to_linked_list(arr)\n",
        "print(printListReverse(head))"
      ],
      "metadata": {
        "colab": {
          "base_uri": "https://localhost:8080/"
        },
        "id": "qlsoPvHtoyka",
        "outputId": "dd4c55a6-12d4-492e-8e92-c6da7d351dc4"
      },
      "execution_count": null,
      "outputs": [
        {
          "output_type": "stream",
          "name": "stdout",
          "text": [
            "40\n",
            "30\n",
            "20\n",
            "10\n",
            "None\n"
          ]
        }
      ]
    },
    {
      "cell_type": "code",
      "source": [
        "#Task 2 (c)\n",
        "class Node:\n",
        "    def __init__(self, val):\n",
        "        self.val = val\n",
        "        self.next = None\n",
        "\n",
        "def array_to_linked_list(arr):\n",
        "    if not arr:\n",
        "        return None\n",
        "    head = Node(arr[0])\n",
        "    curr = head\n",
        "    for i in range(1, len(arr)):\n",
        "        curr.next = Node(arr[i])\n",
        "        curr = curr.next\n",
        "    return head\n",
        "def addList(head):\n",
        "    if head is None:\n",
        "        return 0\n",
        "    else:\n",
        "        return head.val + addList(head.next)\n",
        "arr = [10,20,30,40]\n",
        "head = array_to_linked_list(arr)\n",
        "print(addList(head))"
      ],
      "metadata": {
        "colab": {
          "base_uri": "https://localhost:8080/"
        },
        "id": "zPL3dUKlo8tg",
        "outputId": "bd2b86e4-2f5e-4100-c6b9-b0a5950fd430"
      },
      "execution_count": null,
      "outputs": [
        {
          "output_type": "stream",
          "name": "stdout",
          "text": [
            "100\n"
          ]
        }
      ]
    },
    {
      "cell_type": "code",
      "source": [
        "#Task3 :\n",
        "def hocBuilder(height):\n",
        "    if height == 0:\n",
        "        return 0\n",
        "    elif height == 1:\n",
        "        return 8\n",
        "    else:\n",
        "        return 8 + 5 * (height - 1) + hocBuilder(height - 1)\n",
        "hocBuilder(5)"
      ],
      "metadata": {
        "colab": {
          "base_uri": "https://localhost:8080/"
        },
        "id": "f9ulm0_bcGx5",
        "outputId": "adf55564-c065-4ea3-8529-f060257e601b"
      },
      "execution_count": null,
      "outputs": [
        {
          "output_type": "execute_result",
          "data": {
            "text/plain": [
              "90"
            ]
          },
          "metadata": {},
          "execution_count": 13
        }
      ]
    },
    {
      "cell_type": "code",
      "source": [
        "#Task 4a:\n",
        "def muntasir(bro):\n",
        "  if bro==0:\n",
        "    return 0\n",
        "  else:\n",
        "    muntasir(bro-1)\n",
        "    print(bro, end=\" \")\n",
        "def vabi(n):\n",
        "  if n==0:\n",
        "    return 0\n",
        "  else:\n",
        "    vabi(n-1)\n",
        "  muntasir(n)\n",
        "  print()\n",
        "vabi(5)"
      ],
      "metadata": {
        "colab": {
          "base_uri": "https://localhost:8080/"
        },
        "id": "fujle7tVrvJ5",
        "outputId": "f358dd34-60d1-44b6-c2b6-41e6709a7426"
      },
      "execution_count": null,
      "outputs": [
        {
          "output_type": "stream",
          "name": "stdout",
          "text": [
            "1 \n",
            "1 2 \n",
            "1 2 3 \n",
            "1 2 3 4 \n",
            "1 2 3 4 5 \n"
          ]
        }
      ]
    },
    {
      "cell_type": "code",
      "source": [
        "#Task 4b:\n",
        "def outerloop(i):\n",
        "  if i==0:\n",
        "    return 0\n",
        "  else:\n",
        "    outerloop(i-1)\n",
        "    print(i,end=\"\")\n",
        "def pattern(i,n):\n",
        "  if i==0:\n",
        "    return 0\n",
        "  else:\n",
        "    space_counter(i-1)\n",
        "    outerloop((n)-i+1)\n",
        "    print()\n",
        "    pattern(i-1,n)\n",
        "def space_counter(n):\n",
        "  if n==0:\n",
        "    return 0\n",
        "  else:\n",
        "    space_counter(n-1)\n",
        "    print(\"\",end=\" \")\n",
        "\n",
        "pattern(6,6)"
      ],
      "metadata": {
        "colab": {
          "base_uri": "https://localhost:8080/"
        },
        "id": "SDB-zUdltJlB",
        "outputId": "85e4a68e-8a5d-4f11-bc1e-0f1967f2a6a0"
      },
      "execution_count": null,
      "outputs": [
        {
          "output_type": "stream",
          "name": "stdout",
          "text": [
            "     1\n",
            "    12\n",
            "   123\n",
            "  1234\n",
            " 12345\n",
            "123456\n"
          ]
        }
      ]
    },
    {
      "cell_type": "code",
      "source": [
        "#Task 5:\n",
        "class FinalQ:\n",
        "\n",
        "    def print(self, array, idx):\n",
        "        if idx < len(array):\n",
        "            profit = self.calcProfit(array[idx])\n",
        "            print(f\"Profit for investment {array[idx]}: {profit}\")\n",
        "            self.print(array, idx+1)\n",
        "\n",
        "    def calcProfit(self, investment):\n",
        "        if investment <= 100000:\n",
        "            return (investment - 25000) * 0.045\n",
        "        else:\n",
        "            return (100000 - 25000) * 0.045 + (investment - 100000) * 0.08\n",
        "array=[25000,100000,250000,350000]\n",
        "f = FinalQ()\n",
        "f.print(array,0)\n"
      ],
      "metadata": {
        "colab": {
          "base_uri": "https://localhost:8080/"
        },
        "id": "TOXOw9b7c2Dy",
        "outputId": "8f53c772-fa38-4411-8259-422fef0ee42e"
      },
      "execution_count": null,
      "outputs": [
        {
          "output_type": "stream",
          "name": "stdout",
          "text": [
            "Profit for investment 25000: 0.0\n",
            "Profit for investment 100000: 3375.0\n",
            "Profit for investment 250000: 15375.0\n",
            "Profit for investment 350000: 23375.0\n"
          ]
        }
      ]
    }
  ]
}